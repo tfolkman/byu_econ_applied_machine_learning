{
 "cells": [
  {
   "cell_type": "markdown",
   "metadata": {},
   "source": [
    "This dataset lists all soccer players participating in the 2016 World Cup, their country's rank in the tournament, what club they played for, as well as other information. This file is in TSV format, so we begin by reading it in as a CSV but specifying the different delimiter. "
   ]
  },
  {
   "cell_type": "code",
   "execution_count": 1,
   "metadata": {
    "collapsed": true
   },
   "outputs": [],
   "source": [
    "import pandas as pd"
   ]
  },
  {
   "cell_type": "code",
   "execution_count": 40,
   "metadata": {},
   "outputs": [],
   "source": [
    "worldcup_df = pd.read_csv('C:\\\\Users\\\\michael.clawson\\\\Desktop\\\\Machine Learning\\\\worldcupplayerinfo_20140701.tsv',\n",
    " delimiter='\\t', header=0)"
   ]
  },
  {
   "cell_type": "code",
   "execution_count": 32,
   "metadata": {},
   "outputs": [
    {
     "data": {
      "text/html": [
       "<div>\n",
       "<style>\n",
       "    .dataframe thead tr:only-child th {\n",
       "        text-align: right;\n",
       "    }\n",
       "\n",
       "    .dataframe thead th {\n",
       "        text-align: left;\n",
       "    }\n",
       "\n",
       "    .dataframe tbody tr th {\n",
       "        vertical-align: top;\n",
       "    }\n",
       "</style>\n",
       "<table border=\"1\" class=\"dataframe\">\n",
       "  <thead>\n",
       "    <tr style=\"text-align: right;\">\n",
       "      <th></th>\n",
       "      <th>Group</th>\n",
       "      <th>Country</th>\n",
       "      <th>Rank</th>\n",
       "      <th>Jersey</th>\n",
       "      <th>Position</th>\n",
       "      <th>Age</th>\n",
       "      <th>Selections</th>\n",
       "      <th>Club</th>\n",
       "      <th>Player</th>\n",
       "      <th>Captain</th>\n",
       "      <th>Unnamed: 10</th>\n",
       "      <th>Unnamed: 11</th>\n",
       "    </tr>\n",
       "  </thead>\n",
       "  <tbody>\n",
       "    <tr>\n",
       "      <th>0</th>\n",
       "      <td>A</td>\n",
       "      <td>Brazil</td>\n",
       "      <td>3</td>\n",
       "      <td>1</td>\n",
       "      <td>Goalie</td>\n",
       "      <td>31</td>\n",
       "      <td>9</td>\n",
       "      <td>Botafogo</td>\n",
       "      <td>Jefferson</td>\n",
       "      <td>0</td>\n",
       "      <td>NaN</td>\n",
       "      <td>NaN</td>\n",
       "    </tr>\n",
       "    <tr>\n",
       "      <th>1</th>\n",
       "      <td>A</td>\n",
       "      <td>Brazil</td>\n",
       "      <td>3</td>\n",
       "      <td>12</td>\n",
       "      <td>Goalie</td>\n",
       "      <td>34</td>\n",
       "      <td>80</td>\n",
       "      <td>Toronto FC</td>\n",
       "      <td>Julio Cesar</td>\n",
       "      <td>0</td>\n",
       "      <td>NaN</td>\n",
       "      <td>NaN</td>\n",
       "    </tr>\n",
       "    <tr>\n",
       "      <th>2</th>\n",
       "      <td>A</td>\n",
       "      <td>Brazil</td>\n",
       "      <td>3</td>\n",
       "      <td>22</td>\n",
       "      <td>Goalie</td>\n",
       "      <td>31</td>\n",
       "      <td>6</td>\n",
       "      <td>Atletico Mineiro</td>\n",
       "      <td>Victor</td>\n",
       "      <td>0</td>\n",
       "      <td>NaN</td>\n",
       "      <td>NaN</td>\n",
       "    </tr>\n",
       "    <tr>\n",
       "      <th>3</th>\n",
       "      <td>A</td>\n",
       "      <td>Brazil</td>\n",
       "      <td>3</td>\n",
       "      <td>2</td>\n",
       "      <td>Defender</td>\n",
       "      <td>31</td>\n",
       "      <td>75</td>\n",
       "      <td>Barcelona</td>\n",
       "      <td>Dani Alves</td>\n",
       "      <td>0</td>\n",
       "      <td>NaN</td>\n",
       "      <td>NaN</td>\n",
       "    </tr>\n",
       "    <tr>\n",
       "      <th>4</th>\n",
       "      <td>A</td>\n",
       "      <td>Brazil</td>\n",
       "      <td>3</td>\n",
       "      <td>13</td>\n",
       "      <td>Defender</td>\n",
       "      <td>30</td>\n",
       "      <td>12</td>\n",
       "      <td>Bayern Munich</td>\n",
       "      <td>Dante</td>\n",
       "      <td>0</td>\n",
       "      <td>NaN</td>\n",
       "      <td>NaN</td>\n",
       "    </tr>\n",
       "  </tbody>\n",
       "</table>\n",
       "</div>"
      ],
      "text/plain": [
       "  Group Country  Rank  Jersey  Position  Age  Selections                Club  \\\n",
       "0     A  Brazil     3       1    Goalie   31           9         Botafogo      \n",
       "1     A  Brazil     3      12    Goalie   34          80        Toronto FC     \n",
       "2     A  Brazil     3      22    Goalie   31           6  Atletico Mineiro     \n",
       "3     A  Brazil     3       2  Defender   31          75        Barcelona      \n",
       "4     A  Brazil     3      13  Defender   30          12     Bayern Munich     \n",
       "\n",
       "        Player Captain  Unnamed: 10  Unnamed: 11  \n",
       "0    Jefferson       0          NaN          NaN  \n",
       "1  Julio Cesar       0          NaN          NaN  \n",
       "2       Victor       0          NaN          NaN  \n",
       "3   Dani Alves       0          NaN          NaN  \n",
       "4        Dante       0          NaN          NaN  "
      ]
     },
     "execution_count": 32,
     "metadata": {},
     "output_type": "execute_result"
    }
   ],
   "source": [
    "worldcup_df.head()"
   ]
  },
  {
   "cell_type": "markdown",
   "metadata": {},
   "source": [
    "The dataset has two superfluous columns at  the end, so we will begin cleaning by dropping these:"
   ]
  },
  {
   "cell_type": "code",
   "execution_count": 41,
   "metadata": {},
   "outputs": [],
   "source": [
    "worldcup_df.drop(worldcup_df.columns[[10,11]], axis=1, inplace=True)"
   ]
  },
  {
   "cell_type": "code",
   "execution_count": 42,
   "metadata": {},
   "outputs": [
    {
     "data": {
      "text/html": [
       "<div>\n",
       "<style>\n",
       "    .dataframe thead tr:only-child th {\n",
       "        text-align: right;\n",
       "    }\n",
       "\n",
       "    .dataframe thead th {\n",
       "        text-align: left;\n",
       "    }\n",
       "\n",
       "    .dataframe tbody tr th {\n",
       "        vertical-align: top;\n",
       "    }\n",
       "</style>\n",
       "<table border=\"1\" class=\"dataframe\">\n",
       "  <thead>\n",
       "    <tr style=\"text-align: right;\">\n",
       "      <th></th>\n",
       "      <th>Group</th>\n",
       "      <th>Country</th>\n",
       "      <th>Rank</th>\n",
       "      <th>Jersey</th>\n",
       "      <th>Position</th>\n",
       "      <th>Age</th>\n",
       "      <th>Selections</th>\n",
       "      <th>Club</th>\n",
       "      <th>Player</th>\n",
       "      <th>Captain</th>\n",
       "    </tr>\n",
       "  </thead>\n",
       "  <tbody>\n",
       "    <tr>\n",
       "      <th>0</th>\n",
       "      <td>A</td>\n",
       "      <td>Brazil</td>\n",
       "      <td>3</td>\n",
       "      <td>1</td>\n",
       "      <td>Goalie</td>\n",
       "      <td>31</td>\n",
       "      <td>9</td>\n",
       "      <td>Botafogo</td>\n",
       "      <td>Jefferson</td>\n",
       "      <td>0</td>\n",
       "    </tr>\n",
       "    <tr>\n",
       "      <th>1</th>\n",
       "      <td>A</td>\n",
       "      <td>Brazil</td>\n",
       "      <td>3</td>\n",
       "      <td>12</td>\n",
       "      <td>Goalie</td>\n",
       "      <td>34</td>\n",
       "      <td>80</td>\n",
       "      <td>Toronto FC</td>\n",
       "      <td>Julio Cesar</td>\n",
       "      <td>0</td>\n",
       "    </tr>\n",
       "    <tr>\n",
       "      <th>2</th>\n",
       "      <td>A</td>\n",
       "      <td>Brazil</td>\n",
       "      <td>3</td>\n",
       "      <td>22</td>\n",
       "      <td>Goalie</td>\n",
       "      <td>31</td>\n",
       "      <td>6</td>\n",
       "      <td>Atletico Mineiro</td>\n",
       "      <td>Victor</td>\n",
       "      <td>0</td>\n",
       "    </tr>\n",
       "    <tr>\n",
       "      <th>3</th>\n",
       "      <td>A</td>\n",
       "      <td>Brazil</td>\n",
       "      <td>3</td>\n",
       "      <td>2</td>\n",
       "      <td>Defender</td>\n",
       "      <td>31</td>\n",
       "      <td>75</td>\n",
       "      <td>Barcelona</td>\n",
       "      <td>Dani Alves</td>\n",
       "      <td>0</td>\n",
       "    </tr>\n",
       "    <tr>\n",
       "      <th>4</th>\n",
       "      <td>A</td>\n",
       "      <td>Brazil</td>\n",
       "      <td>3</td>\n",
       "      <td>13</td>\n",
       "      <td>Defender</td>\n",
       "      <td>30</td>\n",
       "      <td>12</td>\n",
       "      <td>Bayern Munich</td>\n",
       "      <td>Dante</td>\n",
       "      <td>0</td>\n",
       "    </tr>\n",
       "  </tbody>\n",
       "</table>\n",
       "</div>"
      ],
      "text/plain": [
       "  Group Country  Rank  Jersey  Position  Age  Selections                Club  \\\n",
       "0     A  Brazil     3       1    Goalie   31           9         Botafogo      \n",
       "1     A  Brazil     3      12    Goalie   34          80        Toronto FC     \n",
       "2     A  Brazil     3      22    Goalie   31           6  Atletico Mineiro     \n",
       "3     A  Brazil     3       2  Defender   31          75        Barcelona      \n",
       "4     A  Brazil     3      13  Defender   30          12     Bayern Munich     \n",
       "\n",
       "        Player Captain  \n",
       "0    Jefferson       0  \n",
       "1  Julio Cesar       0  \n",
       "2       Victor       0  \n",
       "3   Dani Alves       0  \n",
       "4        Dante       0  "
      ]
     },
     "execution_count": 42,
     "metadata": {},
     "output_type": "execute_result"
    }
   ],
   "source": [
    "worldcup_df.head()"
   ]
  },
  {
   "cell_type": "markdown",
   "metadata": {},
   "source": [
    "To get a feel for what is in the data, let us look at the number of observations as well as what different positions were logged. Ideally, this second piece of information could be converted into analyses about most common/peak ages for each position, regression on team ranking vs. mean team age, as well as regressing the size of the substitution pool for each team against their world cup rank. Also, it would be interesting to see which positions that the team captains tend to be selected from. However, I was unable to understand how to run the python equivalent of countif and sumif functions, so those insights are unavailable."
   ]
  },
  {
   "cell_type": "code",
   "execution_count": 47,
   "metadata": {},
   "outputs": [
    {
     "name": "stdout",
     "output_type": "stream",
     "text": [
      "<class 'pandas.core.frame.DataFrame'>\n",
      "RangeIndex: 736 entries, 0 to 735\n",
      "Data columns (total 10 columns):\n",
      "Group         736 non-null object\n",
      "Country       736 non-null object\n",
      "Rank          736 non-null int64\n",
      "Jersey        736 non-null int64\n",
      "Position      736 non-null object\n",
      "Age           736 non-null int64\n",
      "Selections    736 non-null int64\n",
      "Club          736 non-null object\n",
      "Player        736 non-null object\n",
      "Captain       736 non-null object\n",
      "dtypes: int64(4), object(6)\n",
      "memory usage: 57.6+ KB\n"
     ]
    }
   ],
   "source": [
    "worldcup_df.info()"
   ]
  },
  {
   "cell_type": "code",
   "execution_count": 51,
   "metadata": {},
   "outputs": [],
   "source": [
    "plist = worldcup_df.Position.unique()"
   ]
  },
  {
   "cell_type": "code",
   "execution_count": 52,
   "metadata": {},
   "outputs": [
    {
     "name": "stdout",
     "output_type": "stream",
     "text": [
      "['Goalie' 'Defender' 'Midfielder' 'Forward' 'Défenseur']\n"
     ]
    }
   ],
   "source": [
    "print(plist)"
   ]
  },
  {
   "cell_type": "markdown",
   "metadata": {},
   "source": [
    "While the majority of the table below is uninteresting, the mean, minimum, and maximum ages are rather interesting insights."
   ]
  },
  {
   "cell_type": "code",
   "execution_count": 48,
   "metadata": {},
   "outputs": [
    {
     "data": {
      "text/html": [
       "<div>\n",
       "<style>\n",
       "    .dataframe thead tr:only-child th {\n",
       "        text-align: right;\n",
       "    }\n",
       "\n",
       "    .dataframe thead th {\n",
       "        text-align: left;\n",
       "    }\n",
       "\n",
       "    .dataframe tbody tr th {\n",
       "        vertical-align: top;\n",
       "    }\n",
       "</style>\n",
       "<table border=\"1\" class=\"dataframe\">\n",
       "  <thead>\n",
       "    <tr style=\"text-align: right;\">\n",
       "      <th></th>\n",
       "      <th>Rank</th>\n",
       "      <th>Jersey</th>\n",
       "      <th>Age</th>\n",
       "      <th>Selections</th>\n",
       "    </tr>\n",
       "  </thead>\n",
       "  <tbody>\n",
       "    <tr>\n",
       "      <th>count</th>\n",
       "      <td>736.000000</td>\n",
       "      <td>736.00000</td>\n",
       "      <td>736.000000</td>\n",
       "      <td>736.000000</td>\n",
       "    </tr>\n",
       "    <tr>\n",
       "      <th>mean</th>\n",
       "      <td>21.625000</td>\n",
       "      <td>12.00000</td>\n",
       "      <td>26.828804</td>\n",
       "      <td>33.368207</td>\n",
       "    </tr>\n",
       "    <tr>\n",
       "      <th>std</th>\n",
       "      <td>16.922573</td>\n",
       "      <td>6.63776</td>\n",
       "      <td>3.796961</td>\n",
       "      <td>30.608816</td>\n",
       "    </tr>\n",
       "    <tr>\n",
       "      <th>min</th>\n",
       "      <td>1.000000</td>\n",
       "      <td>1.00000</td>\n",
       "      <td>18.000000</td>\n",
       "      <td>0.000000</td>\n",
       "    </tr>\n",
       "    <tr>\n",
       "      <th>25%</th>\n",
       "      <td>8.750000</td>\n",
       "      <td>6.00000</td>\n",
       "      <td>24.000000</td>\n",
       "      <td>9.000000</td>\n",
       "    </tr>\n",
       "    <tr>\n",
       "      <th>50%</th>\n",
       "      <td>17.500000</td>\n",
       "      <td>12.00000</td>\n",
       "      <td>27.000000</td>\n",
       "      <td>24.000000</td>\n",
       "    </tr>\n",
       "    <tr>\n",
       "      <th>75%</th>\n",
       "      <td>29.250000</td>\n",
       "      <td>18.00000</td>\n",
       "      <td>29.000000</td>\n",
       "      <td>50.000000</td>\n",
       "    </tr>\n",
       "    <tr>\n",
       "      <th>max</th>\n",
       "      <td>62.000000</td>\n",
       "      <td>23.00000</td>\n",
       "      <td>42.000000</td>\n",
       "      <td>154.000000</td>\n",
       "    </tr>\n",
       "  </tbody>\n",
       "</table>\n",
       "</div>"
      ],
      "text/plain": [
       "             Rank     Jersey         Age  Selections\n",
       "count  736.000000  736.00000  736.000000  736.000000\n",
       "mean    21.625000   12.00000   26.828804   33.368207\n",
       "std     16.922573    6.63776    3.796961   30.608816\n",
       "min      1.000000    1.00000   18.000000    0.000000\n",
       "25%      8.750000    6.00000   24.000000    9.000000\n",
       "50%     17.500000   12.00000   27.000000   24.000000\n",
       "75%     29.250000   18.00000   29.000000   50.000000\n",
       "max     62.000000   23.00000   42.000000  154.000000"
      ]
     },
     "execution_count": 48,
     "metadata": {},
     "output_type": "execute_result"
    }
   ],
   "source": [
    "worldcup_df.describe()"
   ]
  },
  {
   "cell_type": "code",
   "execution_count": 56,
   "metadata": {
    "collapsed": true
   },
   "outputs": [],
   "source": [
    "import seaborn as sns\n",
    "from sklearn.datasets import load_boston\n",
    "import matplotlib.pyplot as plt\n",
    "sns.set(style='ticks', palette='Set2')\n",
    "# shows graphs in notebook\n",
    "%matplotlib inline"
   ]
  },
  {
   "cell_type": "markdown",
   "metadata": {},
   "source": [
    "However, it seems that slightly older teams get ranked higher in the world cup, as shown by this regression line. While they are not old by any means, experience and talent are likely more highly prized than raw athletic ability generally displayed by younger players."
   ]
  },
  {
   "cell_type": "code",
   "execution_count": 57,
   "metadata": {},
   "outputs": [
    {
     "data": {
      "text/plain": [
       "<seaborn.axisgrid.FacetGrid at 0x2d20bfd2eb8>"
      ]
     },
     "execution_count": 57,
     "metadata": {},
     "output_type": "execute_result"
    },
    {
     "data": {
      "image/png": "[encoded data removed]",
      "text/plain": [
       "<matplotlib.figure.Figure at 0x2d20c5dedd8>"
      ]
     },
     "metadata": {},
     "output_type": "display_data"
    }
   ],
   "source": [
    "sns.lmplot(x=\"Rank\", y=\"Age\", data=worldcup_df)\n"
   ]
  }
 ],
 "metadata": {
  "kernelspec": {
   "display_name": "Python 3",
   "language": "python",
   "name": "python3"
  },
  "language_info": {
   "codemirror_mode": {
    "name": "ipython",
    "version": 3
   },
   "file_extension": ".py",
   "mimetype": "text/x-python",
   "name": "python",
   "nbconvert_exporter": "python",
   "pygments_lexer": "ipython3",
   "version": "3.6.3"
  }
 },
 "nbformat": 4,
 "nbformat_minor": 2
}
