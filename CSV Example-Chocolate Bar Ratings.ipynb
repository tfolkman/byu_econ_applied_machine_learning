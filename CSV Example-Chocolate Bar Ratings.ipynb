{
 "cells": [
  {
   "cell_type": "code",
   "execution_count": 31,
   "metadata": {
    "collapsed": true
   },
   "outputs": [],
   "source": [
    "import pandas as pd"
   ]
  },
  {
   "cell_type": "code",
   "execution_count": 54,
   "metadata": {
    "collapsed": true
   },
   "outputs": [],
   "source": [
    "names=['Company','Bean Origin','REF','Review Date','Cocoa Percent','Company Location','Rating','Bean Type','Broad Bean Origin']\n",
    "chocolate_bar_ratings = pd.read_csv(\"C:\\\\Users\\\\michael.clawson\\\\Desktop\\\\Machine Learning\\\\chocolate-bar-ratings\\\\flavors_of_cacao.csv\",\n",
    "                                   header=None, skiprows=1, names=names)"
   ]
  },
  {
   "cell_type": "code",
   "execution_count": 74,
   "metadata": {},
   "outputs": [
    {
     "data": {
      "text/html": [
       "<div>\n",
       "<style>\n",
       "    .dataframe thead tr:only-child th {\n",
       "        text-align: right;\n",
       "    }\n",
       "\n",
       "    .dataframe thead th {\n",
       "        text-align: left;\n",
       "    }\n",
       "\n",
       "    .dataframe tbody tr th {\n",
       "        vertical-align: top;\n",
       "    }\n",
       "</style>\n",
       "<table border=\"1\" class=\"dataframe\">\n",
       "  <thead>\n",
       "    <tr style=\"text-align: right;\">\n",
       "      <th></th>\n",
       "      <th>Company</th>\n",
       "      <th>Bean Origin</th>\n",
       "      <th>REF</th>\n",
       "      <th>Review Date</th>\n",
       "      <th>Cocoa Percent</th>\n",
       "      <th>Company Location</th>\n",
       "      <th>Rating</th>\n",
       "      <th>Bean Type</th>\n",
       "      <th>Broad Bean Origin</th>\n",
       "    </tr>\n",
       "  </thead>\n",
       "  <tbody>\n",
       "    <tr>\n",
       "      <th>0</th>\n",
       "      <td>A. Morin</td>\n",
       "      <td>Agua Grande</td>\n",
       "      <td>1876</td>\n",
       "      <td>2016</td>\n",
       "      <td>63%</td>\n",
       "      <td>France</td>\n",
       "      <td>3.75</td>\n",
       "      <td></td>\n",
       "      <td>Sao Tome</td>\n",
       "    </tr>\n",
       "    <tr>\n",
       "      <th>1</th>\n",
       "      <td>A. Morin</td>\n",
       "      <td>Kpime</td>\n",
       "      <td>1676</td>\n",
       "      <td>2015</td>\n",
       "      <td>70%</td>\n",
       "      <td>France</td>\n",
       "      <td>2.75</td>\n",
       "      <td></td>\n",
       "      <td>Togo</td>\n",
       "    </tr>\n",
       "    <tr>\n",
       "      <th>2</th>\n",
       "      <td>A. Morin</td>\n",
       "      <td>Atsane</td>\n",
       "      <td>1676</td>\n",
       "      <td>2015</td>\n",
       "      <td>70%</td>\n",
       "      <td>France</td>\n",
       "      <td>3.00</td>\n",
       "      <td></td>\n",
       "      <td>Togo</td>\n",
       "    </tr>\n",
       "    <tr>\n",
       "      <th>3</th>\n",
       "      <td>A. Morin</td>\n",
       "      <td>Akata</td>\n",
       "      <td>1680</td>\n",
       "      <td>2015</td>\n",
       "      <td>70%</td>\n",
       "      <td>France</td>\n",
       "      <td>3.50</td>\n",
       "      <td></td>\n",
       "      <td>Togo</td>\n",
       "    </tr>\n",
       "    <tr>\n",
       "      <th>4</th>\n",
       "      <td>A. Morin</td>\n",
       "      <td>Quilla</td>\n",
       "      <td>1704</td>\n",
       "      <td>2015</td>\n",
       "      <td>70%</td>\n",
       "      <td>France</td>\n",
       "      <td>3.50</td>\n",
       "      <td></td>\n",
       "      <td>Peru</td>\n",
       "    </tr>\n",
       "  </tbody>\n",
       "</table>\n",
       "</div>"
      ],
      "text/plain": [
       "    Company  Bean Origin   REF  Review Date Cocoa Percent Company Location  \\\n",
       "0  A. Morin  Agua Grande  1876         2016           63%           France   \n",
       "1  A. Morin        Kpime  1676         2015           70%           France   \n",
       "2  A. Morin       Atsane  1676         2015           70%           France   \n",
       "3  A. Morin        Akata  1680         2015           70%           France   \n",
       "4  A. Morin       Quilla  1704         2015           70%           France   \n",
       "\n",
       "   Rating Bean Type Broad Bean Origin  \n",
       "0    3.75                    Sao Tome  \n",
       "1    2.75                        Togo  \n",
       "2    3.00                        Togo  \n",
       "3    3.50                        Togo  \n",
       "4    3.50                        Peru  "
      ]
     },
     "execution_count": 74,
     "metadata": {},
     "output_type": "execute_result"
    }
   ],
   "source": [
    "chocolate_bar_ratings.head()"
   ]
  },
  {
   "cell_type": "code",
   "execution_count": 76,
   "metadata": {
    "collapsed": true
   },
   "outputs": [],
   "source": [
    "chocolate_bar_ratings[\"Cocoa Percent\"] = chocolate_bar_ratings[\"Cocoa Percent\"].map(lambda x: float(x[:-1]))"
   ]
  },
  {
   "cell_type": "code",
   "execution_count": 78,
   "metadata": {},
   "outputs": [
    {
     "data": {
      "text/html": [
       "<div>\n",
       "<style>\n",
       "    .dataframe thead tr:only-child th {\n",
       "        text-align: right;\n",
       "    }\n",
       "\n",
       "    .dataframe thead th {\n",
       "        text-align: left;\n",
       "    }\n",
       "\n",
       "    .dataframe tbody tr th {\n",
       "        vertical-align: top;\n",
       "    }\n",
       "</style>\n",
       "<table border=\"1\" class=\"dataframe\">\n",
       "  <thead>\n",
       "    <tr style=\"text-align: right;\">\n",
       "      <th></th>\n",
       "      <th>Company</th>\n",
       "      <th>Bean Origin</th>\n",
       "      <th>REF</th>\n",
       "      <th>Review Date</th>\n",
       "      <th>Cocoa Percent</th>\n",
       "      <th>Company Location</th>\n",
       "      <th>Rating</th>\n",
       "      <th>Bean Type</th>\n",
       "      <th>Broad Bean Origin</th>\n",
       "    </tr>\n",
       "  </thead>\n",
       "  <tbody>\n",
       "    <tr>\n",
       "      <th>0</th>\n",
       "      <td>A. Morin</td>\n",
       "      <td>Agua Grande</td>\n",
       "      <td>1876</td>\n",
       "      <td>2016</td>\n",
       "      <td>63.0</td>\n",
       "      <td>France</td>\n",
       "      <td>3.75</td>\n",
       "      <td></td>\n",
       "      <td>Sao Tome</td>\n",
       "    </tr>\n",
       "    <tr>\n",
       "      <th>1</th>\n",
       "      <td>A. Morin</td>\n",
       "      <td>Kpime</td>\n",
       "      <td>1676</td>\n",
       "      <td>2015</td>\n",
       "      <td>70.0</td>\n",
       "      <td>France</td>\n",
       "      <td>2.75</td>\n",
       "      <td></td>\n",
       "      <td>Togo</td>\n",
       "    </tr>\n",
       "    <tr>\n",
       "      <th>2</th>\n",
       "      <td>A. Morin</td>\n",
       "      <td>Atsane</td>\n",
       "      <td>1676</td>\n",
       "      <td>2015</td>\n",
       "      <td>70.0</td>\n",
       "      <td>France</td>\n",
       "      <td>3.00</td>\n",
       "      <td></td>\n",
       "      <td>Togo</td>\n",
       "    </tr>\n",
       "    <tr>\n",
       "      <th>3</th>\n",
       "      <td>A. Morin</td>\n",
       "      <td>Akata</td>\n",
       "      <td>1680</td>\n",
       "      <td>2015</td>\n",
       "      <td>70.0</td>\n",
       "      <td>France</td>\n",
       "      <td>3.50</td>\n",
       "      <td></td>\n",
       "      <td>Togo</td>\n",
       "    </tr>\n",
       "    <tr>\n",
       "      <th>4</th>\n",
       "      <td>A. Morin</td>\n",
       "      <td>Quilla</td>\n",
       "      <td>1704</td>\n",
       "      <td>2015</td>\n",
       "      <td>70.0</td>\n",
       "      <td>France</td>\n",
       "      <td>3.50</td>\n",
       "      <td></td>\n",
       "      <td>Peru</td>\n",
       "    </tr>\n",
       "  </tbody>\n",
       "</table>\n",
       "</div>"
      ],
      "text/plain": [
       "    Company  Bean Origin   REF  Review Date  Cocoa Percent Company Location  \\\n",
       "0  A. Morin  Agua Grande  1876         2016           63.0           France   \n",
       "1  A. Morin        Kpime  1676         2015           70.0           France   \n",
       "2  A. Morin       Atsane  1676         2015           70.0           France   \n",
       "3  A. Morin        Akata  1680         2015           70.0           France   \n",
       "4  A. Morin       Quilla  1704         2015           70.0           France   \n",
       "\n",
       "   Rating Bean Type Broad Bean Origin  \n",
       "0    3.75                    Sao Tome  \n",
       "1    2.75                        Togo  \n",
       "2    3.00                        Togo  \n",
       "3    3.50                        Togo  \n",
       "4    3.50                        Peru  "
      ]
     },
     "execution_count": 78,
     "metadata": {},
     "output_type": "execute_result"
    }
   ],
   "source": [
    "chocolate_bar_ratings.head()"
   ]
  },
  {
   "cell_type": "markdown",
   "metadata": {},
   "source": [
    "This data is now pretty clean."
   ]
  },
  {
   "cell_type": "code",
   "execution_count": 57,
   "metadata": {},
   "outputs": [
    {
     "data": {
      "text/html": [
       "<div>\n",
       "<style>\n",
       "    .dataframe thead tr:only-child th {\n",
       "        text-align: right;\n",
       "    }\n",
       "\n",
       "    .dataframe thead th {\n",
       "        text-align: left;\n",
       "    }\n",
       "\n",
       "    .dataframe tbody tr th {\n",
       "        vertical-align: top;\n",
       "    }\n",
       "</style>\n",
       "<table border=\"1\" class=\"dataframe\">\n",
       "  <thead>\n",
       "    <tr style=\"text-align: right;\">\n",
       "      <th></th>\n",
       "      <th>REF</th>\n",
       "      <th>Review Date</th>\n",
       "      <th>Rating</th>\n",
       "    </tr>\n",
       "  </thead>\n",
       "  <tbody>\n",
       "    <tr>\n",
       "      <th>count</th>\n",
       "      <td>1795.000000</td>\n",
       "      <td>1795.000000</td>\n",
       "      <td>1795.000000</td>\n",
       "    </tr>\n",
       "    <tr>\n",
       "      <th>mean</th>\n",
       "      <td>1035.904735</td>\n",
       "      <td>2012.325348</td>\n",
       "      <td>3.185933</td>\n",
       "    </tr>\n",
       "    <tr>\n",
       "      <th>std</th>\n",
       "      <td>552.886365</td>\n",
       "      <td>2.927210</td>\n",
       "      <td>0.478062</td>\n",
       "    </tr>\n",
       "    <tr>\n",
       "      <th>min</th>\n",
       "      <td>5.000000</td>\n",
       "      <td>2006.000000</td>\n",
       "      <td>1.000000</td>\n",
       "    </tr>\n",
       "    <tr>\n",
       "      <th>25%</th>\n",
       "      <td>576.000000</td>\n",
       "      <td>2010.000000</td>\n",
       "      <td>2.875000</td>\n",
       "    </tr>\n",
       "    <tr>\n",
       "      <th>50%</th>\n",
       "      <td>1069.000000</td>\n",
       "      <td>2013.000000</td>\n",
       "      <td>3.250000</td>\n",
       "    </tr>\n",
       "    <tr>\n",
       "      <th>75%</th>\n",
       "      <td>1502.000000</td>\n",
       "      <td>2015.000000</td>\n",
       "      <td>3.500000</td>\n",
       "    </tr>\n",
       "    <tr>\n",
       "      <th>max</th>\n",
       "      <td>1952.000000</td>\n",
       "      <td>2017.000000</td>\n",
       "      <td>5.000000</td>\n",
       "    </tr>\n",
       "  </tbody>\n",
       "</table>\n",
       "</div>"
      ],
      "text/plain": [
       "               REF  Review Date       Rating\n",
       "count  1795.000000  1795.000000  1795.000000\n",
       "mean   1035.904735  2012.325348     3.185933\n",
       "std     552.886365     2.927210     0.478062\n",
       "min       5.000000  2006.000000     1.000000\n",
       "25%     576.000000  2010.000000     2.875000\n",
       "50%    1069.000000  2013.000000     3.250000\n",
       "75%    1502.000000  2015.000000     3.500000\n",
       "max    1952.000000  2017.000000     5.000000"
      ]
     },
     "execution_count": 57,
     "metadata": {},
     "output_type": "execute_result"
    }
   ],
   "source": [
    "chocolate_bar_ratings.describe()"
   ]
  },
  {
   "cell_type": "code",
   "execution_count": 58,
   "metadata": {},
   "outputs": [
    {
     "name": "stdout",
     "output_type": "stream",
     "text": [
      "<class 'pandas.core.frame.DataFrame'>\n",
      "RangeIndex: 1795 entries, 0 to 1794\n",
      "Data columns (total 9 columns):\n",
      "Company              1795 non-null object\n",
      "Bean Origin          1795 non-null object\n",
      "REF                  1795 non-null int64\n",
      "Review Date          1795 non-null int64\n",
      "Cocoa Percent        1795 non-null object\n",
      "Company Location     1795 non-null object\n",
      "Rating               1795 non-null float64\n",
      "Bean Type            1794 non-null object\n",
      "Broad Bean Origin    1794 non-null object\n",
      "dtypes: float64(1), int64(2), object(6)\n",
      "memory usage: 126.3+ KB\n"
     ]
    }
   ],
   "source": [
    "chocolate_bar_ratings.info()"
   ]
  },
  {
   "cell_type": "code",
   "execution_count": 59,
   "metadata": {},
   "outputs": [
    {
     "data": {
      "text/plain": [
       "Index(['Company', 'Bean Origin', 'REF', 'Review Date', 'Cocoa Percent',\n",
       "       'Company Location', 'Rating', 'Bean Type', 'Broad Bean Origin'],\n",
       "      dtype='object')"
      ]
     },
     "execution_count": 59,
     "metadata": {},
     "output_type": "execute_result"
    }
   ],
   "source": [
    "chocolate_bar_ratings.columns"
   ]
  },
  {
   "cell_type": "markdown",
   "metadata": {},
   "source": [
    "Now, I was curious what the mean rating was by company location, which are as follows: "
   ]
  },
  {
   "cell_type": "code",
   "execution_count": 60,
   "metadata": {},
   "outputs": [
    {
     "data": {
      "text/plain": [
       "Company Location\n",
       "Amsterdam            3.500000\n",
       "Argentina            3.305556\n",
       "Australia            3.357143\n",
       "Austria              3.240385\n",
       "Belgium              3.093750\n",
       "Bolivia              3.250000\n",
       "Brazil               3.397059\n",
       "Canada               3.324000\n",
       "Chile                3.750000\n",
       "Colombia             3.173913\n",
       "Costa Rica           3.138889\n",
       "Czech Republic       2.750000\n",
       "Denmark              3.283333\n",
       "Domincan Republic    3.200000\n",
       "Ecuador              3.009259\n",
       "Eucador              3.000000\n",
       "Fiji                 3.250000\n",
       "Finland              3.250000\n",
       "France               3.251603\n",
       "Germany              3.178571\n",
       "Ghana                2.750000\n",
       "Grenada              2.833333\n",
       "Guatemala            3.350000\n",
       "Honduras             3.208333\n",
       "Hungary              3.204545\n",
       "Iceland              3.416667\n",
       "India                2.500000\n",
       "Ireland              2.812500\n",
       "Israel               3.250000\n",
       "Italy                3.325397\n",
       "Japan                3.088235\n",
       "Lithuania            3.166667\n",
       "Madagascar           3.147059\n",
       "Martinique           2.750000\n",
       "Mexico               2.687500\n",
       "Netherlands          3.500000\n",
       "New Zealand          3.191176\n",
       "Niacragua            2.750000\n",
       "Nicaragua            3.000000\n",
       "Peru                 2.897059\n",
       "Philippines          3.500000\n",
       "Poland               3.375000\n",
       "Portugal             2.750000\n",
       "Puerto Rico          2.625000\n",
       "Russia               3.250000\n",
       "Sao Tome             2.937500\n",
       "Scotland             3.325000\n",
       "Singapore            3.333333\n",
       "South Africa         2.666667\n",
       "South Korea          3.200000\n",
       "Spain                3.270000\n",
       "St. Lucia            3.000000\n",
       "Suriname             3.250000\n",
       "Sweden               3.050000\n",
       "Switzerland          3.342105\n",
       "U.K.                 3.054688\n",
       "U.S.A.               3.154123\n",
       "Venezuela            3.175000\n",
       "Vietnam              3.409091\n",
       "Wales                2.750000\n",
       "Name: Rating, dtype: float64"
      ]
     },
     "execution_count": 60,
     "metadata": {},
     "output_type": "execute_result"
    }
   ],
   "source": [
    "chocolate_bar_ratings.groupby(['Company Location'])['Rating'].mean()"
   ]
  },
  {
   "cell_type": "code",
   "execution_count": 62,
   "metadata": {
    "scrolled": true
   },
   "outputs": [
    {
     "data": {
      "text/plain": [
       "Review Date\n",
       "2006    3.125000\n",
       "2007    3.162338\n",
       "2008    2.994624\n",
       "2009    3.073171\n",
       "2010    3.148649\n",
       "2011    3.256061\n",
       "2012    3.178205\n",
       "2013    3.197011\n",
       "2014    3.189271\n",
       "2015    3.246491\n",
       "2016    3.226027\n",
       "2017    3.312500\n",
       "Name: Rating, dtype: float64"
      ]
     },
     "execution_count": 62,
     "metadata": {},
     "output_type": "execute_result"
    }
   ],
   "source": [
    "chocolate_bar_ratings.groupby(['Review Date'])['Rating'].mean()"
   ]
  },
  {
   "cell_type": "markdown",
   "metadata": {},
   "source": [
    "It would be nice to find if chocolate quality varied by year. To do that, we can see if there is any meaningful correlation between the date and review date. It seems not, as there is only a 10% correlation."
   ]
  },
  {
   "cell_type": "code",
   "execution_count": 61,
   "metadata": {},
   "outputs": [
    {
     "data": {
      "text/html": [
       "<div>\n",
       "<style>\n",
       "    .dataframe thead tr:only-child th {\n",
       "        text-align: right;\n",
       "    }\n",
       "\n",
       "    .dataframe thead th {\n",
       "        text-align: left;\n",
       "    }\n",
       "\n",
       "    .dataframe tbody tr th {\n",
       "        vertical-align: top;\n",
       "    }\n",
       "</style>\n",
       "<table border=\"1\" class=\"dataframe\">\n",
       "  <thead>\n",
       "    <tr style=\"text-align: right;\">\n",
       "      <th></th>\n",
       "      <th>REF</th>\n",
       "      <th>Review Date</th>\n",
       "      <th>Rating</th>\n",
       "    </tr>\n",
       "  </thead>\n",
       "  <tbody>\n",
       "    <tr>\n",
       "      <th>REF</th>\n",
       "      <td>1.000000</td>\n",
       "      <td>0.985076</td>\n",
       "      <td>0.101030</td>\n",
       "    </tr>\n",
       "    <tr>\n",
       "      <th>Review Date</th>\n",
       "      <td>0.985076</td>\n",
       "      <td>1.000000</td>\n",
       "      <td>0.099846</td>\n",
       "    </tr>\n",
       "    <tr>\n",
       "      <th>Rating</th>\n",
       "      <td>0.101030</td>\n",
       "      <td>0.099846</td>\n",
       "      <td>1.000000</td>\n",
       "    </tr>\n",
       "  </tbody>\n",
       "</table>\n",
       "</div>"
      ],
      "text/plain": [
       "                  REF  Review Date    Rating\n",
       "REF          1.000000     0.985076  0.101030\n",
       "Review Date  0.985076     1.000000  0.099846\n",
       "Rating       0.101030     0.099846  1.000000"
      ]
     },
     "execution_count": 61,
     "metadata": {},
     "output_type": "execute_result"
    }
   ],
   "source": [
    "chocolate_bar_ratings.corr()"
   ]
  },
  {
   "cell_type": "markdown",
   "metadata": {},
   "source": [
    "To get an even better sense of whether ratings climb or fall by the year, we can run a regression:"
   ]
  },
  {
   "cell_type": "code",
   "execution_count": 83,
   "metadata": {
    "collapsed": true
   },
   "outputs": [],
   "source": [
    "import seaborn as sns\n",
    "import matplotlib.pyplot as plt\n",
    "sns.set(style='ticks', palette='Set2')\n",
    "# shows graphs in notebook\n",
    "%matplotlib inline"
   ]
  },
  {
   "cell_type": "code",
   "execution_count": 84,
   "metadata": {},
   "outputs": [
    {
     "data": {
      "text/plain": [
       "<seaborn.axisgrid.FacetGrid at 0x1a7f11876a0>"
      ]
     },
     "execution_count": 84,
     "metadata": {},
     "output_type": "execute_result"
    },
    {
     "data": {
      "image/png": "[encoded data removed]",
      "text/plain": [
       "<matplotlib.figure.Figure at 0x1a7f05526d8>"
      ]
     },
     "metadata": {},
     "output_type": "display_data"
    }
   ],
   "source": [
    "sns.lmplot(x='Review Date', y='Rating', data=chocolate_bar_ratings)"
   ]
  },
  {
   "cell_type": "markdown",
   "metadata": {},
   "source": [
    "There seems to be a small increase in chocolate ratings as time goes on, but that could be due to less newer chocolates being sampled at later dates."
   ]
  },
  {
   "cell_type": "markdown",
   "metadata": {},
   "source": [
    "What kind of ratings do our chocolate raters give the chocolates? Here we break it down by cocoa percentage as well as get a view of the distribution of chocolate ratings. It seems to almost be a normal distribution, which we would generally expect to see increase as the sample size is augmented."
   ]
  },
  {
   "cell_type": "code",
   "execution_count": 79,
   "metadata": {},
   "outputs": [
    {
     "data": {
      "text/plain": [
       "<seaborn.axisgrid.FacetGrid at 0x1a7f10feb70>"
      ]
     },
     "execution_count": 79,
     "metadata": {},
     "output_type": "execute_result"
    },
    {
     "data": {
      "image/png": "[encoded data removed]",
      "text/plain": [
       "<matplotlib.figure.Figure at 0x1a7f105c4a8>"
      ]
     },
     "metadata": {},
     "output_type": "display_data"
    }
   ],
   "source": [
    "sns.lmplot(x='Cocoa Percent', y='Rating', data=chocolate_bar_ratings)"
   ]
  },
  {
   "cell_type": "code",
   "execution_count": 82,
   "metadata": {},
   "outputs": [
    {
     "data": {
      "text/plain": [
       "<matplotlib.axes._subplots.AxesSubplot at 0x1a7f1288748>"
      ]
     },
     "execution_count": 82,
     "metadata": {},
     "output_type": "execute_result"
    },
    {
     "data": {
      "image/png": "[encoded data removed]",
      "text/plain": [
       "<matplotlib.figure.Figure at 0x1a7f1259e10>"
      ]
     },
     "metadata": {},
     "output_type": "display_data"
    }
   ],
   "source": [
    "sns.distplot(chocolate_bar_ratings.Rating, kde=False, bins=5)"
   ]
  },
  {
   "cell_type": "code",
   "execution_count": null,
   "metadata": {
    "collapsed": true
   },
   "outputs": [],
   "source": []
  }
 ],
 "metadata": {
  "kernelspec": {
   "display_name": "Python 3",
   "language": "python",
   "name": "python3"
  },
  "language_info": {
   "codemirror_mode": {
    "name": "ipython",
    "version": 3
   },
   "file_extension": ".py",
   "mimetype": "text/x-python",
   "name": "python",
   "nbconvert_exporter": "python",
   "pygments_lexer": "ipython3",
   "version": "3.6.3"
  }
 },
 "nbformat": 4,
 "nbformat_minor": 2
}
